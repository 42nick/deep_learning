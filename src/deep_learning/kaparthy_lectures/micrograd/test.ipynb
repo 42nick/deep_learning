{
 "cells": [
  {
   "cell_type": "code",
   "execution_count": 1,
   "metadata": {},
   "outputs": [],
   "source": [
    "# taken from https://www.youtube.com/watch?v=VMj-3S1tku0&t=455s\n",
    "# The spelled-out intro to neural networks and backpropagation: building micrograd\n",
    "\n",
    "import math\n",
    "import numpy as np\n",
    "import matplotlib.pyplot as plt\n",
    "%matplotlib inline"
   ]
  },
  {
   "cell_type": "code",
   "execution_count": 2,
   "metadata": {},
   "outputs": [],
   "source": [
    "def f(x):\n",
    "    return x * x - 3 * x + 1"
   ]
  },
  {
   "cell_type": "code",
   "execution_count": 3,
   "metadata": {},
   "outputs": [
    {
     "data": {
      "text/plain": [
       "-1"
      ]
     },
     "execution_count": 3,
     "metadata": {},
     "output_type": "execute_result"
    }
   ],
   "source": [
    "f(2)"
   ]
  },
  {
   "cell_type": "code",
   "execution_count": 4,
   "metadata": {},
   "outputs": [
    {
     "data": {
      "text/plain": [
       "[<matplotlib.lines.Line2D at 0x7fbf17ac31f0>]"
      ]
     },
     "execution_count": 4,
     "metadata": {},
     "output_type": "execute_result"
    },
    {
     "data": {
      "image/png": "[encoded data removed]",
      "text/plain": [
       "<Figure size 640x480 with 1 Axes>"
      ]
     },
     "metadata": {},
     "output_type": "display_data"
    }
   ],
   "source": [
    "xs = np.arange(-10, 10, 0.1)\n",
    "ys = f(xs)\n",
    "plt.plot(xs, ys)"
   ]
  },
  {
   "attachments": {},
   "cell_type": "markdown",
   "metadata": {},
   "source": [
    "Derivative: How does the function change when we change the input?"
   ]
  },
  {
   "cell_type": "code",
   "execution_count": 5,
   "metadata": {},
   "outputs": [
    {
     "data": {
      "text/plain": [
       "3.0009999999993653"
      ]
     },
     "execution_count": 5,
     "metadata": {},
     "output_type": "execute_result"
    }
   ],
   "source": [
    "h = 0.001\n",
    "x= 3.0\n",
    "f(x + h)\n",
    "(f(x + h) - f(x)) / h"
   ]
  },
  {
   "attachments": {},
   "cell_type": "markdown",
   "metadata": {},
   "source": [
    "Same can be applied for a function with multiple variables.\n",
    "\n",
    "You need the local derivative of each node in the graph. Thats all it needs due to the chain rule."
   ]
  },
  {
   "cell_type": "code",
   "execution_count": 6,
   "metadata": {},
   "outputs": [
    {
     "name": "stdout",
     "output_type": "stream",
     "text": [
      "-1.0\n",
      "-1.0002000000000004\n",
      "-2.0000000000042206\n"
     ]
    }
   ],
   "source": [
    "h = 0.0001\n",
    "a = 3.0\n",
    "b = -2.0\n",
    "c  = 5.0\n",
    "d = a*b+c\n",
    "a+=h\n",
    "d2 = a*b+c\n",
    "print(d)\n",
    "print(d2)\n",
    "print((d2-d)/h)\n"
   ]
  },
  {
   "cell_type": "code",
   "execution_count": 7,
   "metadata": {},
   "outputs": [],
   "source": [
    "from graphviz import Digraph\n",
    "\n",
    "def trace(root):\n",
    "  # builds a set of all nodes and edges in a graph\n",
    "  nodes, edges = set(), set()\n",
    "  def build(v):\n",
    "    if v not in nodes:\n",
    "      nodes.add(v)\n",
    "      for child in v._prev:\n",
    "        edges.add((child, v))\n",
    "        build(child)\n",
    "  build(root)\n",
    "  return nodes, edges\n",
    "\n",
    "def draw_dot(root):\n",
    "  dot = Digraph(format='svg', graph_attr={'rankdir': 'LR'}) # LR = left to right\n",
    "  \n",
    "  nodes, edges = trace(root)\n",
    "  for n in nodes:\n",
    "    uid = str(id(n))\n",
    "    # for any value in the graph, create a rectangular ('record') node for it\n",
    "    dot.node(name = uid, label = \"{ %s | data %.4f | grad %.4f }\" % (n.label, n.data, n.grad), shape='record')\n",
    "    if n._op:\n",
    "      # if this value is a result of some operation, create an op node for it\n",
    "      dot.node(name = uid + n._op, label = n._op)\n",
    "      # and connect this node to it\n",
    "      dot.edge(uid + n._op, uid)\n",
    "\n",
    "  for n1, n2 in edges:\n",
    "    # connect n1 to the op node of n2\n",
    "    dot.edge(str(id(n1)), str(id(n2)) + n2._op)\n",
    "\n",
    "  return dot"
   ]
  },
  {
   "cell_type": "code",
   "execution_count": 122,
   "metadata": {},
   "outputs": [],
   "source": [
    "class Value:\n",
    "    def __init__(self, data, _children=None, _op=\"\", label=\"\"):\n",
    "        self.data = data\n",
    "        self.grad = 0.0\n",
    "        self._backward = lambda : print(\"Hello\")\n",
    "        if _children is None:\n",
    "            _children = tuple()\n",
    "        self._prev = set(_children)\n",
    "        self._op=_op\n",
    "        self.label = label\n",
    "    def __repr__(self) -> str:\n",
    "        return f\"Value({self.data})\"\n",
    "    \n",
    "    def __add__(self, other):\n",
    "        other = other if isinstance(other, Value) else Value(other)\n",
    "        \n",
    "        print(\"Adding\", self, other)\n",
    "        out= Value(self.data + other.data, (self, other), \"+\")\n",
    "        \n",
    "        def _backward():\n",
    "            print(\"Calling backward while adding on \", out)\n",
    "            self.grad += 1.0* out.grad\n",
    "            other.grad += 1.0* out.grad\n",
    "            \n",
    "        out._backward = _backward\n",
    "        \n",
    "        return out\n",
    "\n",
    "    def __sub__(self,other):\n",
    "        return self + other * -1\n",
    "\n",
    "    def __mul__(self, other):\n",
    "        other = other if isinstance(other, Value) else Value(other)\n",
    "        print(\"Multiplying\", self, other)\n",
    "        out = Value(self.data * other.data, (self, other), \"*\")\n",
    "        \n",
    "        def _backward():\n",
    "            print(\"Calling backward while multiplying on\", out)\n",
    "            self.grad += other.data * out.grad\n",
    "            other.grad += self.data * out.grad\n",
    "        \n",
    "        out._backward = _backward\n",
    "        \n",
    "        return out\n",
    "\n",
    "    def __trudediv__(self, other):\n",
    "        return self * other ** -1\n",
    "\n",
    "\n",
    "    def __pow__(self, other):\n",
    "        assert isinstance(other, (float, int))\n",
    "        \n",
    "        out = Value(self.data ** other, (self,), \"**\")\n",
    "        \n",
    "        def _backward():\n",
    "            print(\"Calling backward while powering on\", out)\n",
    "            self.grad += other * self.data ** (other - 1) * out.grad\n",
    "\n",
    "    def exp(self):\n",
    "        out = Value(math.exp(self.data), (self,), \"exp\")\n",
    "        \n",
    "        def _backward():\n",
    "            print(\"Calling backward on\", out)\n",
    "            self.grad += out.data * out.grad\n",
    "        \n",
    "        out._backward = _backward\n",
    "        \n",
    "        return out\n",
    "\n",
    "    def __rmul__(self, other):\n",
    "        return self * other\n",
    "    \n",
    "    def tanh(self):\n",
    "        out = Value(math.tanh(self.data), (self,), \"tanh\")\n",
    "        \n",
    "        def _backward():\n",
    "            print(\"Calling backward on\", out)\n",
    "            self.grad = (1 - out.data**2) * out.grad\n",
    "        \n",
    "        out._backward = _backward\n",
    "        \n",
    "        return out\n",
    "    \n",
    "    def backward(self):\n",
    "        \n",
    "        # create the topography in the graph starting with inputs\n",
    "        topo = []\n",
    "        visited = set()\n",
    "        def build_topo(v):\n",
    "            if v not in visited:\n",
    "                visited.add(v)\n",
    "                for child in v._prev:\n",
    "                    build_topo(child)\n",
    "                topo.append(v)\n",
    "                \n",
    "        build_topo(self)\n",
    "        self.grad = 1.0\n",
    "        for node in reversed( topo):\n",
    "            node._backward()\n"
   ]
  },
  {
   "cell_type": "code",
   "execution_count": 123,
   "metadata": {},
   "outputs": [
    {
     "name": "stdout",
     "output_type": "stream",
     "text": [
      "Multiplying Value(3.0) Value(-2.0)\n",
      "Multiplying Value(2.0) Value(5.0)\n",
      "Multiplying Value(10.0) Value(-1)\n",
      "Adding Value(-6.0) Value(-10.0)\n"
     ]
    }
   ],
   "source": [
    "a = Value(3.0, label=\"a\")\n",
    "b = Value(-2.0, label=\"b\")\n",
    "c = Value(5.0, label=\"c\")\n",
    "f = Value(2.0, label=\"f\")\n",
    "\n",
    "d = a*b; d.label = \"d\"\n",
    "\n",
    "g = f * c; g.label = \"g\"\n",
    "\n",
    "e = d - g; e.label = \"e\""
   ]
  },
  {
   "cell_type": "code",
   "execution_count": 114,
   "metadata": {},
   "outputs": [
    {
     "name": "stdout",
     "output_type": "stream",
     "text": [
      "Calling backward while adding on  Value(4.0)\n",
      "Calling backward while multiplying on Value(10.0)\n",
      "Hello\n",
      "Hello\n",
      "Calling backward while multiplying on Value(-6.0)\n",
      "Hello\n",
      "Hello\n"
     ]
    }
   ],
   "source": [
    "e.backward()"
   ]
  },
  {
   "cell_type": "code",
   "execution_count": 115,
   "metadata": {},
   "outputs": [
    {
     "data": {
      "image/svg+xml": "<?xml version=\"1.0\" encoding=\"UTF-8\" standalone=\"no\"?>\n<!DOCTYPE svg PUBLIC \"-//W3C//DTD SVG 1.1//EN\"\n \"http://www.w3.org/Graphics/SVG/1.1/DTD/svg11.dtd\">\n<!-- Generated by graphviz version 2.43.0 (0)\n -->\n<!-- Title: %3 Pages: 1 -->\n<svg width=\"969pt\" height=\"210pt\"\n viewBox=\"0.00 0.00 969.00 210.00\" xmlns=\"http://www.w3.org/2000/svg\" xmlns:xlink=\"http://www.w3.org/1999/xlink\">\n<g id=\"graph0\" class=\"graph\" transform=\"scale(1 1) rotate(0) translate(4 206)\">\n<title>%3</title>\n<polygon fill=\"white\" stroke=\"transparent\" points=\"-4,4 -4,-206 965,-206 965,4 -4,4\"/>\n<!-- 140458676061184 -->\n<g id=\"node1\" class=\"node\">\n<title>140458676061184</title>\n<polygon fill=\"none\" stroke=\"black\" points=\"0,-165.5 0,-201.5 237,-201.5 237,-165.5 0,-165.5\"/>\n<text text-anchor=\"middle\" x=\"13\" y=\"-179.8\" font-family=\"Times,serif\" font-size=\"14.00\">b</text>\n<polyline fill=\"none\" stroke=\"black\" points=\"26,-165.5 26,-201.5 \"/>\n<text text-anchor=\"middle\" x=\"79.5\" y=\"-179.8\" font-family=\"Times,serif\" font-size=\"14.00\">data &#45;2.0000</text>\n<polyline fill=\"none\" stroke=\"black\" points=\"133,-165.5 133,-201.5 \"/>\n<text text-anchor=\"middle\" x=\"185\" y=\"-179.8\" font-family=\"Times,serif\" font-size=\"14.00\">grad 3.0000</text>\n</g>\n<!-- 140458676061760* -->\n<g id=\"node4\" class=\"node\">\n<title>140458676061760*</title>\n<ellipse fill=\"none\" stroke=\"black\" cx=\"300\" cy=\"-128.5\" rx=\"27\" ry=\"18\"/>\n<text text-anchor=\"middle\" x=\"300\" y=\"-124.8\" font-family=\"Times,serif\" font-size=\"14.00\">*</text>\n</g>\n<!-- 140458676061184&#45;&gt;140458676061760* -->\n<g id=\"edge8\" class=\"edge\">\n<title>140458676061184&#45;&gt;140458676061760*</title>\n<path fill=\"none\" stroke=\"black\" d=\"M206.99,-165.43C217.19,-162.72 227.38,-159.74 237,-156.5 247.69,-152.9 259.03,-148.09 269.05,-143.47\"/>\n<polygon fill=\"black\" stroke=\"black\" points=\"270.64,-146.59 278.18,-139.15 267.65,-140.26 270.64,-146.59\"/>\n</g>\n<!-- 140458676062240 -->\n<g id=\"node2\" class=\"node\">\n<title>140458676062240</title>\n<polygon fill=\"none\" stroke=\"black\" points=\"1,-110.5 1,-146.5 236,-146.5 236,-110.5 1,-110.5\"/>\n<text text-anchor=\"middle\" x=\"13.5\" y=\"-124.8\" font-family=\"Times,serif\" font-size=\"14.00\">a</text>\n<polyline fill=\"none\" stroke=\"black\" points=\"26,-110.5 26,-146.5 \"/>\n<text text-anchor=\"middle\" x=\"77\" y=\"-124.8\" font-family=\"Times,serif\" font-size=\"14.00\">data 3.0000</text>\n<polyline fill=\"none\" stroke=\"black\" points=\"128,-110.5 128,-146.5 \"/>\n<text text-anchor=\"middle\" x=\"182\" y=\"-124.8\" font-family=\"Times,serif\" font-size=\"14.00\">grad &#45;2.0000</text>\n</g>\n<!-- 140458676062240&#45;&gt;140458676061760* -->\n<g id=\"edge5\" class=\"edge\">\n<title>140458676062240&#45;&gt;140458676061760*</title>\n<path fill=\"none\" stroke=\"black\" d=\"M236.22,-128.5C245.62,-128.5 254.59,-128.5 262.66,-128.5\"/>\n<polygon fill=\"black\" stroke=\"black\" points=\"262.7,-132 272.7,-128.5 262.7,-125 262.7,-132\"/>\n</g>\n<!-- 140458676061760 -->\n<g id=\"node3\" class=\"node\">\n<title>140458676061760</title>\n<polygon fill=\"none\" stroke=\"black\" points=\"365,-110.5 365,-146.5 602,-146.5 602,-110.5 365,-110.5\"/>\n<text text-anchor=\"middle\" x=\"378\" y=\"-124.8\" font-family=\"Times,serif\" font-size=\"14.00\">d</text>\n<polyline fill=\"none\" stroke=\"black\" points=\"391,-110.5 391,-146.5 \"/>\n<text text-anchor=\"middle\" x=\"444.5\" y=\"-124.8\" font-family=\"Times,serif\" font-size=\"14.00\">data &#45;6.0000</text>\n<polyline fill=\"none\" stroke=\"black\" points=\"498,-110.5 498,-146.5 \"/>\n<text text-anchor=\"middle\" x=\"550\" y=\"-124.8\" font-family=\"Times,serif\" font-size=\"14.00\">grad 1.0000</text>\n</g>\n<!-- 140458676063488+ -->\n<g id=\"node9\" class=\"node\">\n<title>140458676063488+</title>\n<ellipse fill=\"none\" stroke=\"black\" cx=\"667\" cy=\"-100.5\" rx=\"27\" ry=\"18\"/>\n<text text-anchor=\"middle\" x=\"667\" y=\"-96.8\" font-family=\"Times,serif\" font-size=\"14.00\">+</text>\n</g>\n<!-- 140458676061760&#45;&gt;140458676063488+ -->\n<g id=\"edge9\" class=\"edge\">\n<title>140458676061760&#45;&gt;140458676063488+</title>\n<path fill=\"none\" stroke=\"black\" d=\"M601.24,-110.49C611.61,-108.89 621.49,-107.37 630.27,-106.01\"/>\n<polygon fill=\"black\" stroke=\"black\" points=\"631.03,-109.44 640.38,-104.45 629.97,-102.52 631.03,-109.44\"/>\n</g>\n<!-- 140458676061760*&#45;&gt;140458676061760 -->\n<g id=\"edge1\" class=\"edge\">\n<title>140458676061760*&#45;&gt;140458676061760</title>\n<path fill=\"none\" stroke=\"black\" d=\"M327,-128.5C334.94,-128.5 344.26,-128.5 354.33,-128.5\"/>\n<polygon fill=\"black\" stroke=\"black\" points=\"354.62,-132 364.62,-128.5 354.62,-125 354.62,-132\"/>\n</g>\n<!-- 140458676060272 -->\n<g id=\"node5\" class=\"node\">\n<title>140458676060272</title>\n<polygon fill=\"none\" stroke=\"black\" points=\"363,-55.5 363,-91.5 604,-91.5 604,-55.5 363,-55.5\"/>\n<text text-anchor=\"middle\" x=\"376\" y=\"-69.8\" font-family=\"Times,serif\" font-size=\"14.00\">g</text>\n<polyline fill=\"none\" stroke=\"black\" points=\"389,-55.5 389,-91.5 \"/>\n<text text-anchor=\"middle\" x=\"444.5\" y=\"-69.8\" font-family=\"Times,serif\" font-size=\"14.00\">data 10.0000</text>\n<polyline fill=\"none\" stroke=\"black\" points=\"500,-55.5 500,-91.5 \"/>\n<text text-anchor=\"middle\" x=\"552\" y=\"-69.8\" font-family=\"Times,serif\" font-size=\"14.00\">grad 1.0000</text>\n</g>\n<!-- 140458676060272&#45;&gt;140458676063488+ -->\n<g id=\"edge4\" class=\"edge\">\n<title>140458676060272&#45;&gt;140458676063488+</title>\n<path fill=\"none\" stroke=\"black\" d=\"M604.05,-91.28C613.46,-92.68 622.41,-94.02 630.44,-95.21\"/>\n<polygon fill=\"black\" stroke=\"black\" points=\"630.01,-98.68 640.41,-96.69 631.04,-91.76 630.01,-98.68\"/>\n</g>\n<!-- 140458676060272* -->\n<g id=\"node6\" class=\"node\">\n<title>140458676060272*</title>\n<ellipse fill=\"none\" stroke=\"black\" cx=\"300\" cy=\"-73.5\" rx=\"27\" ry=\"18\"/>\n<text text-anchor=\"middle\" x=\"300\" y=\"-69.8\" font-family=\"Times,serif\" font-size=\"14.00\">*</text>\n</g>\n<!-- 140458676060272*&#45;&gt;140458676060272 -->\n<g id=\"edge2\" class=\"edge\">\n<title>140458676060272*&#45;&gt;140458676060272</title>\n<path fill=\"none\" stroke=\"black\" d=\"M327,-73.5C334.5,-73.5 343.22,-73.5 352.64,-73.5\"/>\n<polygon fill=\"black\" stroke=\"black\" points=\"352.68,-77 362.68,-73.5 352.68,-70 352.68,-77\"/>\n</g>\n<!-- 140458676072176 -->\n<g id=\"node7\" class=\"node\">\n<title>140458676072176</title>\n<polygon fill=\"none\" stroke=\"black\" points=\"4.5,-55.5 4.5,-91.5 232.5,-91.5 232.5,-55.5 4.5,-55.5\"/>\n<text text-anchor=\"middle\" x=\"15.5\" y=\"-69.8\" font-family=\"Times,serif\" font-size=\"14.00\">f</text>\n<polyline fill=\"none\" stroke=\"black\" points=\"26.5,-55.5 26.5,-91.5 \"/>\n<text text-anchor=\"middle\" x=\"77.5\" y=\"-69.8\" font-family=\"Times,serif\" font-size=\"14.00\">data 2.0000</text>\n<polyline fill=\"none\" stroke=\"black\" points=\"128.5,-55.5 128.5,-91.5 \"/>\n<text text-anchor=\"middle\" x=\"180.5\" y=\"-69.8\" font-family=\"Times,serif\" font-size=\"14.00\">grad 5.0000</text>\n</g>\n<!-- 140458676072176&#45;&gt;140458676060272* -->\n<g id=\"edge6\" class=\"edge\">\n<title>140458676072176&#45;&gt;140458676060272*</title>\n<path fill=\"none\" stroke=\"black\" d=\"M232.67,-73.5C243.44,-73.5 253.72,-73.5 262.84,-73.5\"/>\n<polygon fill=\"black\" stroke=\"black\" points=\"262.97,-77 272.97,-73.5 262.97,-70 262.97,-77\"/>\n</g>\n<!-- 140458676063488 -->\n<g id=\"node8\" class=\"node\">\n<title>140458676063488</title>\n<polygon fill=\"none\" stroke=\"black\" points=\"730,-82.5 730,-118.5 961,-118.5 961,-82.5 730,-82.5\"/>\n<text text-anchor=\"middle\" x=\"742.5\" y=\"-96.8\" font-family=\"Times,serif\" font-size=\"14.00\">e</text>\n<polyline fill=\"none\" stroke=\"black\" points=\"755,-82.5 755,-118.5 \"/>\n<text text-anchor=\"middle\" x=\"806\" y=\"-96.8\" font-family=\"Times,serif\" font-size=\"14.00\">data 4.0000</text>\n<polyline fill=\"none\" stroke=\"black\" points=\"857,-82.5 857,-118.5 \"/>\n<text text-anchor=\"middle\" x=\"909\" y=\"-96.8\" font-family=\"Times,serif\" font-size=\"14.00\">grad 1.0000</text>\n</g>\n<!-- 140458676063488+&#45;&gt;140458676063488 -->\n<g id=\"edge3\" class=\"edge\">\n<title>140458676063488+&#45;&gt;140458676063488</title>\n<path fill=\"none\" stroke=\"black\" d=\"M694.04,-100.5C701.59,-100.5 710.37,-100.5 719.82,-100.5\"/>\n<polygon fill=\"black\" stroke=\"black\" points=\"719.89,-104 729.89,-100.5 719.89,-97 719.89,-104\"/>\n</g>\n<!-- 140458676065168 -->\n<g id=\"node10\" class=\"node\">\n<title>140458676065168</title>\n<polygon fill=\"none\" stroke=\"black\" points=\"3.5,-0.5 3.5,-36.5 233.5,-36.5 233.5,-0.5 3.5,-0.5\"/>\n<text text-anchor=\"middle\" x=\"15.5\" y=\"-14.8\" font-family=\"Times,serif\" font-size=\"14.00\">c</text>\n<polyline fill=\"none\" stroke=\"black\" points=\"27.5,-0.5 27.5,-36.5 \"/>\n<text text-anchor=\"middle\" x=\"78.5\" y=\"-14.8\" font-family=\"Times,serif\" font-size=\"14.00\">data 5.0000</text>\n<polyline fill=\"none\" stroke=\"black\" points=\"129.5,-0.5 129.5,-36.5 \"/>\n<text text-anchor=\"middle\" x=\"181.5\" y=\"-14.8\" font-family=\"Times,serif\" font-size=\"14.00\">grad 2.0000</text>\n</g>\n<!-- 140458676065168&#45;&gt;140458676060272* -->\n<g id=\"edge7\" class=\"edge\">\n<title>140458676065168&#45;&gt;140458676060272*</title>\n<path fill=\"none\" stroke=\"black\" d=\"M206.99,-36.57C217.19,-39.28 227.38,-42.26 237,-45.5 247.69,-49.1 259.03,-53.91 269.05,-58.53\"/>\n<polygon fill=\"black\" stroke=\"black\" points=\"267.65,-61.74 278.18,-62.85 270.64,-55.41 267.65,-61.74\"/>\n</g>\n</g>\n</svg>\n",
      "text/plain": [
       "<graphviz.graphs.Digraph at 0x7fbf157e2b60>"
      ]
     },
     "execution_count": 115,
     "metadata": {},
     "output_type": "execute_result"
    }
   ],
   "source": [
    "draw_dot(e)"
   ]
  },
  {
   "cell_type": "code",
   "execution_count": 91,
   "metadata": {},
   "outputs": [
    {
     "name": "stdout",
     "output_type": "stream",
     "text": [
      "Calling backward while adding on  Value(4.0)\n",
      "Calling backward while adding on  Value(4.0)\n"
     ]
    }
   ],
   "source": [
    "e._backward()\n",
    "e.grad = 1.0\n",
    "e._backward()\n",
    "d._backward()\n",
    "g._backward()\n",
    "g._backward()\n",
    "c._backward()\n",
    "b._backward()\n",
    "a._backward()\n"
   ]
  },
  {
   "cell_type": "code",
   "execution_count": 109,
   "metadata": {},
   "outputs": [
    {
     "name": "stdout",
     "output_type": "stream",
     "text": [
      "Calling backward while adding on  Value(4.0)\n",
      "Calling backward while multiplying on Value(10.0)\n",
      "Hello\n",
      "Hello\n",
      "Calling backward while multiplying on Value(-6.0)\n",
      "Hello\n",
      "Hello\n"
     ]
    }
   ],
   "source": [
    "# create the topography in the graph starting with inputs\n",
    "e.grad = 1.0\n",
    "topo = []\n",
    "visited = set()\n",
    "def build_topo(v):\n",
    "    if v not in visited:\n",
    "        visited.add(v)\n",
    "        for child in v._prev:\n",
    "            build_topo(child)\n",
    "        topo.append(v)\n",
    "        \n",
    "build_topo(e)\n",
    "topo\n",
    "for node in reversed( topo):\n",
    "    node._backward()"
   ]
  },
  {
   "cell_type": "code",
   "execution_count": 29,
   "metadata": {},
   "outputs": [
    {
     "data": {
      "text/plain": [
       "0.0"
      ]
     },
     "execution_count": 29,
     "metadata": {},
     "output_type": "execute_result"
    }
   ],
   "source": [
    "a.grad\n",
    "c.grad"
   ]
  },
  {
   "cell_type": "code",
   "execution_count": 120,
   "metadata": {},
   "outputs": [
    {
     "name": "stdout",
     "output_type": "stream",
     "text": [
      "Multiplying Value(3.0) Value(3.0)\n",
      "Calling backward while multiplying on Value(9.0)\n",
      "Hello\n"
     ]
    },
    {
     "data": {
      "image/svg+xml": "<?xml version=\"1.0\" encoding=\"UTF-8\" standalone=\"no\"?>\n<!DOCTYPE svg PUBLIC \"-//W3C//DTD SVG 1.1//EN\"\n \"http://www.w3.org/Graphics/SVG/1.1/DTD/svg11.dtd\">\n<!-- Generated by graphviz version 2.43.0 (0)\n -->\n<!-- Title: %3 Pages: 1 -->\n<svg width=\"597pt\" height=\"45pt\"\n viewBox=\"0.00 0.00 597.00 45.00\" xmlns=\"http://www.w3.org/2000/svg\" xmlns:xlink=\"http://www.w3.org/1999/xlink\">\n<g id=\"graph0\" class=\"graph\" transform=\"scale(1 1) rotate(0) translate(4 41)\">\n<title>%3</title>\n<polygon fill=\"white\" stroke=\"transparent\" points=\"-4,4 -4,-41 593,-41 593,4 -4,4\"/>\n<!-- 140458676336000 -->\n<g id=\"node1\" class=\"node\">\n<title>140458676336000</title>\n<polygon fill=\"none\" stroke=\"black\" points=\"357,-0.5 357,-36.5 589,-36.5 589,-0.5 357,-0.5\"/>\n<text text-anchor=\"middle\" x=\"370\" y=\"-14.8\" font-family=\"Times,serif\" font-size=\"14.00\">b</text>\n<polyline fill=\"none\" stroke=\"black\" points=\"383,-0.5 383,-36.5 \"/>\n<text text-anchor=\"middle\" x=\"434\" y=\"-14.8\" font-family=\"Times,serif\" font-size=\"14.00\">data 9.0000</text>\n<polyline fill=\"none\" stroke=\"black\" points=\"485,-0.5 485,-36.5 \"/>\n<text text-anchor=\"middle\" x=\"537\" y=\"-14.8\" font-family=\"Times,serif\" font-size=\"14.00\">grad 1.0000</text>\n</g>\n<!-- 140458676336000* -->\n<g id=\"node2\" class=\"node\">\n<title>140458676336000*</title>\n<ellipse fill=\"none\" stroke=\"black\" cx=\"294\" cy=\"-18.5\" rx=\"27\" ry=\"18\"/>\n<text text-anchor=\"middle\" x=\"294\" y=\"-14.8\" font-family=\"Times,serif\" font-size=\"14.00\">*</text>\n</g>\n<!-- 140458676336000*&#45;&gt;140458676336000 -->\n<g id=\"edge1\" class=\"edge\">\n<title>140458676336000*&#45;&gt;140458676336000</title>\n<path fill=\"none\" stroke=\"black\" d=\"M321.12,-18.5C328.53,-18.5 337.14,-18.5 346.4,-18.5\"/>\n<polygon fill=\"black\" stroke=\"black\" points=\"346.69,-22 356.69,-18.5 346.69,-15 346.69,-22\"/>\n</g>\n<!-- 140458676326112 -->\n<g id=\"node3\" class=\"node\">\n<title>140458676326112</title>\n<polygon fill=\"none\" stroke=\"black\" points=\"0,-0.5 0,-36.5 231,-36.5 231,-0.5 0,-0.5\"/>\n<text text-anchor=\"middle\" x=\"12.5\" y=\"-14.8\" font-family=\"Times,serif\" font-size=\"14.00\">a</text>\n<polyline fill=\"none\" stroke=\"black\" points=\"25,-0.5 25,-36.5 \"/>\n<text text-anchor=\"middle\" x=\"76\" y=\"-14.8\" font-family=\"Times,serif\" font-size=\"14.00\">data 3.0000</text>\n<polyline fill=\"none\" stroke=\"black\" points=\"127,-0.5 127,-36.5 \"/>\n<text text-anchor=\"middle\" x=\"179\" y=\"-14.8\" font-family=\"Times,serif\" font-size=\"14.00\">grad 6.0000</text>\n</g>\n<!-- 140458676326112&#45;&gt;140458676336000* -->\n<g id=\"edge2\" class=\"edge\">\n<title>140458676326112&#45;&gt;140458676336000*</title>\n<path fill=\"none\" stroke=\"black\" d=\"M231.27,-18.5C240.32,-18.5 248.97,-18.5 256.76,-18.5\"/>\n<polygon fill=\"black\" stroke=\"black\" points=\"256.84,-22 266.84,-18.5 256.84,-15 256.84,-22\"/>\n</g>\n</g>\n</svg>\n",
      "text/plain": [
       "<graphviz.graphs.Digraph at 0x7fbf158223b0>"
      ]
     },
     "execution_count": 120,
     "metadata": {},
     "output_type": "execute_result"
    }
   ],
   "source": [
    "a = Value(3.0, label=\"a\")\n",
    "b = a*a; b.label = \"b\"\n",
    "\n",
    "b.backward()\n",
    "draw_dot(b)"
   ]
  }
 ],
 "metadata": {
  "kernelspec": {
   "display_name": "venv",
   "language": "python",
   "name": "python3"
  },
  "language_info": {
   "codemirror_mode": {
    "name": "ipython",
    "version": 3
   },
   "file_extension": ".py",
   "mimetype": "text/x-python",
   "name": "python",
   "nbconvert_exporter": "python",
   "pygments_lexer": "ipython3",
   "version": "3.10.8"
  },
  "orig_nbformat": 4,
  "vscode": {
   "interpreter": {
    "hash": "a398e6d96033ffb4f29f4937021068687d4a9dc9d376c0b19e480cd3d5db1961"
   }
  }
 },
 "nbformat": 4,
 "nbformat_minor": 2
}
