{
 "cells": [
  {
   "cell_type": "code",
   "execution_count": 2,
   "metadata": {},
   "outputs": [],
   "source": [
    "# taken from https://www.youtube.com/watch?v=VMj-3S1tku0&t=455s\n",
    "# The spelled-out intro to neural networks and backpropagation: building micrograd\n",
    "\n",
    "import math\n",
    "import numpy as np\n",
    "import matplotlib.pyplot as plt\n",
    "%matplotlib inline"
   ]
  },
  {
   "cell_type": "code",
   "execution_count": 5,
   "metadata": {},
   "outputs": [],
   "source": [
    "def f(x):\n",
    "    return x * x - 3 * x + 1"
   ]
  },
  {
   "cell_type": "code",
   "execution_count": 12,
   "metadata": {},
   "outputs": [
    {
     "data": {
      "text/plain": [
       "-1"
      ]
     },
     "execution_count": 12,
     "metadata": {},
     "output_type": "execute_result"
    }
   ],
   "source": [
    "f(2)"
   ]
  },
  {
   "cell_type": "code",
   "execution_count": 11,
   "metadata": {},
   "outputs": [
    {
     "data": {
      "text/plain": [
       "[<matplotlib.lines.Line2D at 0x7f723fa06a40>]"
      ]
     },
     "execution_count": 11,
     "metadata": {},
     "output_type": "execute_result"
    },
    {
     "data": {
      "image/png": "[encoded data removed]",
      "text/plain": [
       "<Figure size 640x480 with 1 Axes>"
      ]
     },
     "metadata": {},
     "output_type": "display_data"
    }
   ],
   "source": [
    "xs = np.arange(-10, 10, 0.1)\n",
    "ys = f(xs)\n",
    "plt.plot(xs, ys)"
   ]
  },
  {
   "attachments": {},
   "cell_type": "markdown",
   "metadata": {},
   "source": [
    "Derivative: How does the function change when we change the input?"
   ]
  },
  {
   "cell_type": "code",
   "execution_count": 14,
   "metadata": {},
   "outputs": [
    {
     "data": {
      "text/plain": [
       "3.0009999999993653"
      ]
     },
     "execution_count": 14,
     "metadata": {},
     "output_type": "execute_result"
    }
   ],
   "source": [
    "h = 0.001\n",
    "x= 3.0\n",
    "f(x + h)\n",
    "(f(x + h) - f(x)) / h"
   ]
  },
  {
   "attachments": {},
   "cell_type": "markdown",
   "metadata": {},
   "source": [
    "Same can be applied for a function with multiple variables.\n",
    "\n",
    "You need the local derivative of each node in the graph. Thats all it needs due to the chain rule."
   ]
  },
  {
   "cell_type": "code",
   "execution_count": 18,
   "metadata": {},
   "outputs": [
    {
     "name": "stdout",
     "output_type": "stream",
     "text": [
      "-1.0\n",
      "-1.0002000000000004\n",
      "-2.0000000000042206\n"
     ]
    }
   ],
   "source": [
    "h = 0.0001\n",
    "a = 3.0\n",
    "b = -2.0\n",
    "c  = 5.0\n",
    "d = a*b+c\n",
    "a+=h\n",
    "d2 = a*b+c\n",
    "print(d)\n",
    "print(d2)\n",
    "print((d2-d)/h)\n"
   ]
  },
  {
   "cell_type": "code",
   "execution_count": 32,
   "metadata": {},
   "outputs": [],
   "source": [
    "from graphviz import Digraph\n",
    "\n",
    "def trace(root):\n",
    "  # builds a set of all nodes and edges in a graph\n",
    "  nodes, edges = set(), set()\n",
    "  def build(v):\n",
    "    if v not in nodes:\n",
    "      nodes.add(v)\n",
    "      for child in v._prev:\n",
    "        edges.add((child, v))\n",
    "        build(child)\n",
    "  build(root)\n",
    "  return nodes, edges\n",
    "\n",
    "def draw_dot(root):\n",
    "  dot = Digraph(format='svg', graph_attr={'rankdir': 'LR'}) # LR = left to right\n",
    "  \n",
    "  nodes, edges = trace(root)\n",
    "  for n in nodes:\n",
    "    uid = str(id(n))\n",
    "    # for any value in the graph, create a rectangular ('record') node for it\n",
    "    dot.node(name = uid, label = \"{ %s | data %.4f | grad %.4f }\" % (n.label, n.data, n.grad), shape='record')\n",
    "    if n._op:\n",
    "      # if this value is a result of some operation, create an op node for it\n",
    "      dot.node(name = uid + n._op, label = n._op)\n",
    "      # and connect this node to it\n",
    "      dot.edge(uid + n._op, uid)\n",
    "\n",
    "  for n1, n2 in edges:\n",
    "    # connect n1 to the op node of n2\n",
    "    dot.edge(str(id(n1)), str(id(n2)) + n2._op)\n",
    "\n",
    "  return dot"
   ]
  },
  {
   "cell_type": "code",
   "execution_count": 39,
   "metadata": {},
   "outputs": [],
   "source": [
    "class Value:\n",
    "    def __init__(self, data, _children=None, _op=\"\", label=\"\"):\n",
    "        self.data = data\n",
    "        self.grad = 0.0\n",
    "        \n",
    "        if _children is None:\n",
    "            _children = tuple()\n",
    "        self._prev = set(_children)\n",
    "        self._op=_op\n",
    "        self.label = label\n",
    "    def __repr__(self) -> str:\n",
    "        return f\"Value({self.data})\"\n",
    "    \n",
    "    def __add__(self, other):\n",
    "        return Value(self.data + other.data, (self, other), \"+\")\n",
    "    \n",
    "    def __mul__(self, other):\n",
    "        return Value(self.data * other.data, (self, other), \"*\")\n",
    "    \n",
    "a = Value(3.0, label=\"a\")\n",
    "b = Value(-2.0, label=\"b\")\n",
    "c = Value(5.0, label=\"c\")\n",
    "\n",
    "d = a*b + c\n"
   ]
  },
  {
   "cell_type": "code",
   "execution_count": 40,
   "metadata": {},
   "outputs": [
    {
     "data": {
      "image/svg+xml": "<?xml version=\"1.0\" encoding=\"UTF-8\" standalone=\"no\"?>\n<!DOCTYPE svg PUBLIC \"-//W3C//DTD SVG 1.1//EN\"\n \"http://www.w3.org/Graphics/SVG/1.1/DTD/svg11.dtd\">\n<!-- Generated by graphviz version 2.43.0 (0)\n -->\n<!-- Title: %3 Pages: 1 -->\n<svg width=\"961pt\" height=\"127pt\"\n viewBox=\"0.00 0.00 961.00 127.00\" xmlns=\"http://www.w3.org/2000/svg\" xmlns:xlink=\"http://www.w3.org/1999/xlink\">\n<g id=\"graph0\" class=\"graph\" transform=\"scale(1 1) rotate(0) translate(4 123)\">\n<title>%3</title>\n<polygon fill=\"white\" stroke=\"transparent\" points=\"-4,4 -4,-123 957,-123 957,4 -4,4\"/>\n<!-- 140128665053712 -->\n<g id=\"node1\" class=\"node\">\n<title>140128665053712</title>\n<polygon fill=\"none\" stroke=\"black\" points=\"363,-27.5 363,-63.5 595,-63.5 595,-27.5 363,-27.5\"/>\n<text text-anchor=\"middle\" x=\"373.5\" y=\"-41.8\" font-family=\"Times,serif\" font-size=\"14.00\"> </text>\n<polyline fill=\"none\" stroke=\"black\" points=\"384,-27.5 384,-63.5 \"/>\n<text text-anchor=\"middle\" x=\"437.5\" y=\"-41.8\" font-family=\"Times,serif\" font-size=\"14.00\">data &#45;6.0000</text>\n<polyline fill=\"none\" stroke=\"black\" points=\"491,-27.5 491,-63.5 \"/>\n<text text-anchor=\"middle\" x=\"543\" y=\"-41.8\" font-family=\"Times,serif\" font-size=\"14.00\">grad 0.0000</text>\n</g>\n<!-- 140128665053616+ -->\n<g id=\"node7\" class=\"node\">\n<title>140128665053616+</title>\n<ellipse fill=\"none\" stroke=\"black\" cx=\"658\" cy=\"-72.5\" rx=\"27\" ry=\"18\"/>\n<text text-anchor=\"middle\" x=\"658\" y=\"-68.8\" font-family=\"Times,serif\" font-size=\"14.00\">+</text>\n</g>\n<!-- 140128665053712&#45;&gt;140128665053616+ -->\n<g id=\"edge5\" class=\"edge\">\n<title>140128665053712&#45;&gt;140128665053616+</title>\n<path fill=\"none\" stroke=\"black\" d=\"M595.09,-63.06C604.46,-64.49 613.39,-65.85 621.4,-67.07\"/>\n<polygon fill=\"black\" stroke=\"black\" points=\"620.96,-70.54 631.37,-68.59 622.01,-63.62 620.96,-70.54\"/>\n</g>\n<!-- 140128665053712* -->\n<g id=\"node2\" class=\"node\">\n<title>140128665053712*</title>\n<ellipse fill=\"none\" stroke=\"black\" cx=\"300\" cy=\"-45.5\" rx=\"27\" ry=\"18\"/>\n<text text-anchor=\"middle\" x=\"300\" y=\"-41.8\" font-family=\"Times,serif\" font-size=\"14.00\">*</text>\n</g>\n<!-- 140128665053712*&#45;&gt;140128665053712 -->\n<g id=\"edge1\" class=\"edge\">\n<title>140128665053712*&#45;&gt;140128665053712</title>\n<path fill=\"none\" stroke=\"black\" d=\"M327.12,-45.5C334.53,-45.5 343.14,-45.5 352.4,-45.5\"/>\n<polygon fill=\"black\" stroke=\"black\" points=\"352.69,-49 362.69,-45.5 352.69,-42 352.69,-49\"/>\n</g>\n<!-- 140128666808384 -->\n<g id=\"node3\" class=\"node\">\n<title>140128666808384</title>\n<polygon fill=\"none\" stroke=\"black\" points=\"3,-55.5 3,-91.5 234,-91.5 234,-55.5 3,-55.5\"/>\n<text text-anchor=\"middle\" x=\"15.5\" y=\"-69.8\" font-family=\"Times,serif\" font-size=\"14.00\">a</text>\n<polyline fill=\"none\" stroke=\"black\" points=\"28,-55.5 28,-91.5 \"/>\n<text text-anchor=\"middle\" x=\"79\" y=\"-69.8\" font-family=\"Times,serif\" font-size=\"14.00\">data 3.0000</text>\n<polyline fill=\"none\" stroke=\"black\" points=\"130,-55.5 130,-91.5 \"/>\n<text text-anchor=\"middle\" x=\"182\" y=\"-69.8\" font-family=\"Times,serif\" font-size=\"14.00\">grad 0.0000</text>\n</g>\n<!-- 140128666808384&#45;&gt;140128665053712* -->\n<g id=\"edge3\" class=\"edge\">\n<title>140128666808384&#45;&gt;140128665053712*</title>\n<path fill=\"none\" stroke=\"black\" d=\"M234.2,-55.61C244.76,-53.96 254.83,-52.39 263.74,-51\"/>\n<polygon fill=\"black\" stroke=\"black\" points=\"264.3,-54.46 273.64,-49.46 263.22,-47.54 264.3,-54.46\"/>\n</g>\n<!-- 140128666807376 -->\n<g id=\"node4\" class=\"node\">\n<title>140128666807376</title>\n<polygon fill=\"none\" stroke=\"black\" points=\"0,-0.5 0,-36.5 237,-36.5 237,-0.5 0,-0.5\"/>\n<text text-anchor=\"middle\" x=\"13\" y=\"-14.8\" font-family=\"Times,serif\" font-size=\"14.00\">b</text>\n<polyline fill=\"none\" stroke=\"black\" points=\"26,-0.5 26,-36.5 \"/>\n<text text-anchor=\"middle\" x=\"79.5\" y=\"-14.8\" font-family=\"Times,serif\" font-size=\"14.00\">data &#45;2.0000</text>\n<polyline fill=\"none\" stroke=\"black\" points=\"133,-0.5 133,-36.5 \"/>\n<text text-anchor=\"middle\" x=\"185\" y=\"-14.8\" font-family=\"Times,serif\" font-size=\"14.00\">grad 0.0000</text>\n</g>\n<!-- 140128666807376&#45;&gt;140128665053712* -->\n<g id=\"edge6\" class=\"edge\">\n<title>140128666807376&#45;&gt;140128665053712*</title>\n<path fill=\"none\" stroke=\"black\" d=\"M237.23,-36.21C246.6,-37.62 255.52,-38.96 263.52,-40.16\"/>\n<polygon fill=\"black\" stroke=\"black\" points=\"263.06,-43.63 273.47,-41.66 264.1,-36.71 263.06,-43.63\"/>\n</g>\n<!-- 140128665049680 -->\n<g id=\"node5\" class=\"node\">\n<title>140128665049680</title>\n<polygon fill=\"none\" stroke=\"black\" points=\"364,-82.5 364,-118.5 594,-118.5 594,-82.5 364,-82.5\"/>\n<text text-anchor=\"middle\" x=\"376\" y=\"-96.8\" font-family=\"Times,serif\" font-size=\"14.00\">c</text>\n<polyline fill=\"none\" stroke=\"black\" points=\"388,-82.5 388,-118.5 \"/>\n<text text-anchor=\"middle\" x=\"439\" y=\"-96.8\" font-family=\"Times,serif\" font-size=\"14.00\">data 5.0000</text>\n<polyline fill=\"none\" stroke=\"black\" points=\"490,-82.5 490,-118.5 \"/>\n<text text-anchor=\"middle\" x=\"542\" y=\"-96.8\" font-family=\"Times,serif\" font-size=\"14.00\">grad 0.0000</text>\n</g>\n<!-- 140128665049680&#45;&gt;140128665053616+ -->\n<g id=\"edge4\" class=\"edge\">\n<title>140128665049680&#45;&gt;140128665053616+</title>\n<path fill=\"none\" stroke=\"black\" d=\"M594.1,-82.45C603.88,-80.9 613.21,-79.43 621.54,-78.11\"/>\n<polygon fill=\"black\" stroke=\"black\" points=\"622.19,-81.55 631.52,-76.53 621.1,-74.64 622.19,-81.55\"/>\n</g>\n<!-- 140128665053616 -->\n<g id=\"node6\" class=\"node\">\n<title>140128665053616</title>\n<polygon fill=\"none\" stroke=\"black\" points=\"721,-54.5 721,-90.5 953,-90.5 953,-54.5 721,-54.5\"/>\n<text text-anchor=\"middle\" x=\"731.5\" y=\"-68.8\" font-family=\"Times,serif\" font-size=\"14.00\"> </text>\n<polyline fill=\"none\" stroke=\"black\" points=\"742,-54.5 742,-90.5 \"/>\n<text text-anchor=\"middle\" x=\"795.5\" y=\"-68.8\" font-family=\"Times,serif\" font-size=\"14.00\">data &#45;1.0000</text>\n<polyline fill=\"none\" stroke=\"black\" points=\"849,-54.5 849,-90.5 \"/>\n<text text-anchor=\"middle\" x=\"901\" y=\"-68.8\" font-family=\"Times,serif\" font-size=\"14.00\">grad 0.0000</text>\n</g>\n<!-- 140128665053616+&#45;&gt;140128665053616 -->\n<g id=\"edge2\" class=\"edge\">\n<title>140128665053616+&#45;&gt;140128665053616</title>\n<path fill=\"none\" stroke=\"black\" d=\"M685.12,-72.5C692.53,-72.5 701.14,-72.5 710.4,-72.5\"/>\n<polygon fill=\"black\" stroke=\"black\" points=\"710.69,-76 720.69,-72.5 710.69,-69 710.69,-76\"/>\n</g>\n</g>\n</svg>\n",
      "text/plain": [
       "<graphviz.graphs.Digraph at 0x7f723f686e60>"
      ]
     },
     "execution_count": 40,
     "metadata": {},
     "output_type": "execute_result"
    }
   ],
   "source": [
    "draw_dot(d)"
   ]
  }
 ],
 "metadata": {
  "kernelspec": {
   "display_name": "venv",
   "language": "python",
   "name": "python3"
  },
  "language_info": {
   "codemirror_mode": {
    "name": "ipython",
    "version": 3
   },
   "file_extension": ".py",
   "mimetype": "text/x-python",
   "name": "python",
   "nbconvert_exporter": "python",
   "pygments_lexer": "ipython3",
   "version": "3.10.8"
  },
  "orig_nbformat": 4,
  "vscode": {
   "interpreter": {
    "hash": "a398e6d96033ffb4f29f4937021068687d4a9dc9d376c0b19e480cd3d5db1961"
   }
  }
 },
 "nbformat": 4,
 "nbformat_minor": 2
}
